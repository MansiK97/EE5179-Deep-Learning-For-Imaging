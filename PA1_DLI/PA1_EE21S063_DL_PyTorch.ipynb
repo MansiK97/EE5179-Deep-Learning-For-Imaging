{
  "nbformat": 4,
  "nbformat_minor": 0,
  "metadata": {
    "colab": {
      "name": "PA1_EE21S063_DL_PyTorch.ipynb",
      "provenance": [],
      "collapsed_sections": []
    },
    "kernelspec": {
      "name": "python3",
      "display_name": "Python 3"
    },
    "language_info": {
      "name": "python"
    },
    "gpuClass": "standard"
  },
  "cells": [
    {
      "cell_type": "code",
      "execution_count": null,
      "metadata": {
        "id": "Ya7_9_fxV_TY"
      },
      "outputs": [],
      "source": [
        "import numpy as np\n",
        "import matplotlib.pyplot as plt\n",
        "import torch\n",
        "import torchvision.datasets as data\n",
        "from torchvision.transforms import ToTensor\n",
        "from torch.utils.data import DataLoader\n",
        "import torch.nn as nn\n",
        "import torch.nn.functional as F\n",
        "\n",
        "%matplotlib inline\n",
        "plt.rcParams['figure.figsize'] = (7.0, 4.0) # set default size of plots"
      ]
    },
    {
      "cell_type": "code",
      "source": [
        "device = torch.device(\"cuda:0\" if torch.cuda.is_available() else \"cpu\")\n",
        "device"
      ],
      "metadata": {
        "colab": {
          "base_uri": "https://localhost:8080/"
        },
        "id": "_WVXiEQ3WJGp",
        "outputId": "94959160-0bc8-4484-b8bf-8316e9afd178"
      },
      "execution_count": null,
      "outputs": [
        {
          "output_type": "execute_result",
          "data": {
            "text/plain": [
              "device(type='cpu')"
            ]
          },
          "metadata": {},
          "execution_count": 3
        }
      ]
    },
    {
      "cell_type": "code",
      "source": [
        "train_set = data.MNIST(root = 'MNIST/raw/train-images-idx3-ubyte', train = True, transform= ToTensor(), download = True)\n",
        "test_set = data.MNIST(root= 'MNIST/raw/train-images-idx3-ubyte', train= False, transform= ToTensor())\n",
        "\n",
        "train_features = train_set.data\n",
        "train_labels = train_set.targets"
      ],
      "metadata": {
        "id": "NlILoAvqWKLW"
      },
      "execution_count": null,
      "outputs": []
    },
    {
      "cell_type": "code",
      "source": [
        "\n",
        "# Display image and label.\n",
        "\n",
        "print(f\"Feature batch shape: {train_features.size()}\")\n",
        "print(f\"Labels batch shape: {train_labels.size()}\")\n",
        "img = train_features[10].squeeze()\n",
        "label = train_labels[10]\n",
        "plt.imshow(img, cmap=\"gray\")\n",
        "plt.show()\n",
        "print(f\"Label: {label}\")"
      ],
      "metadata": {
        "colab": {
          "base_uri": "https://localhost:8080/",
          "height": 317
        },
        "id": "0h0tWRthbqQC",
        "outputId": "6aafd04e-f6d2-45a5-8b1f-d393f7f1d0e3"
      },
      "execution_count": null,
      "outputs": [
        {
          "output_type": "stream",
          "name": "stdout",
          "text": [
            "Feature batch shape: torch.Size([60000, 28, 28])\n",
            "Labels batch shape: torch.Size([60000])\n"
          ]
        },
        {
          "output_type": "display_data",
          "data": {
            "text/plain": [
              "<Figure size 504x288 with 1 Axes>"
            ],
            "image/png": "[encoded data removed]"
          },
          "metadata": {
            "needs_background": "light"
          }
        },
        {
          "output_type": "stream",
          "name": "stdout",
          "text": [
            "Label: 3\n"
          ]
        }
      ]
    },
    {
      "cell_type": "code",
      "source": [
        "n_epochs = 5\n",
        "batch_size_train = 64\n",
        "batch_size_test = 1000\n",
        "learning_rate = 0.01\n",
        "input_size = (train_features.reshape(train_features.shape[0],-1)).shape[1]\n",
        "hidden_layer_1 = 500\n",
        "hidden_layer_2 = 250\n",
        "hidden_layer_3 = 100\n",
        "output_layer = 10\n",
        "momentum = 0.5\n",
        "log_interval = 10\n",
        "\n",
        "random_seed = 1\n",
        "torch.backends.cudnn.enabled = False\n",
        "torch.manual_seed(random_seed)"
      ],
      "metadata": {
        "colab": {
          "base_uri": "https://localhost:8080/"
        },
        "id": "kB4ZtA96cFyO",
        "outputId": "ab2b981c-b625-489a-b9f5-7db49f4d840c"
      },
      "execution_count": null,
      "outputs": [
        {
          "output_type": "execute_result",
          "data": {
            "text/plain": [
              "<torch._C.Generator at 0x7ff6e8d6d510>"
            ]
          },
          "metadata": {},
          "execution_count": 6
        }
      ]
    },
    {
      "cell_type": "code",
      "source": [
        "train_loader = DataLoader(data.MNIST('/files/', train=True, download=True, transform = ToTensor()),batch_size=batch_size_train, shuffle=True)\n",
        "\n",
        "test_loader = DataLoader(data.MNIST('/files/', train=False, download=True,transform=ToTensor()),batch_size=batch_size_test, shuffle=True)"
      ],
      "metadata": {
        "id": "UUuHYUkQcn4_"
      },
      "execution_count": null,
      "outputs": []
    },
    {
      "cell_type": "code",
      "source": [
        "class classificationmodel_sigmoid(nn.Module):\n",
        "  def __init__(self, input_size, hidden_layer_1, hidden_layer_2, hidden_layer_3, output_layer):\n",
        "    super(classificationmodel_sigmoid,self).__init__()\n",
        "    self.linear1 = nn.Linear(input_size, hidden_layer_1)\n",
        "    self.linear2 = nn.Linear(hidden_layer_1, hidden_layer_2)\n",
        "    self.linear3 = nn.Linear(hidden_layer_2, hidden_layer_3)\n",
        "    self.linear4 = nn.Linear(hidden_layer_3, output_layer)\n",
        "    self.sigmoid = nn.Sigmoid()\n",
        "    self.softmax = nn.LogSoftmax(dim = 1)\n",
        "\n",
        "  def forward(self, image):\n",
        "    a = image.view(-1, input_size)\n",
        "    a = self.linear1(a)\n",
        "    a = self.sigmoid(a)\n",
        "    a = self.linear2(a)\n",
        "    a = self.sigmoid(a)\n",
        "    a = self.linear3(a)\n",
        "    a = self.sigmoid(a)\n",
        "    a = self.linear4(a)\n",
        "    a = self.softmax(a)\n",
        "    return a"
      ],
      "metadata": {
        "id": "KKGZoA8y8ACD"
      },
      "execution_count": null,
      "outputs": []
    },
    {
      "cell_type": "code",
      "source": [
        "model_sigmoid = classificationmodel_sigmoid(input_size, hidden_layer_1, hidden_layer_2, hidden_layer_3, output_layer)"
      ],
      "metadata": {
        "id": "g7XDO3Bo8rve"
      },
      "execution_count": null,
      "outputs": []
    },
    {
      "cell_type": "code",
      "source": [
        "class classificationmodel_relu(nn.Module):\n",
        "  def __init__(self, input_size, hidden_layer_1, hidden_layer_2, hidden_layer_3, output_layer):\n",
        "    super(classificationmodel_relu,self).__init__()\n",
        "    self.linear1 = nn.Linear(input_size, hidden_layer_1)\n",
        "    self.linear2 = nn.Linear(hidden_layer_1, hidden_layer_2)\n",
        "    self.linear3 = nn.Linear(hidden_layer_2, hidden_layer_3)\n",
        "    self.linear4 = nn.Linear(hidden_layer_3, output_layer)\n",
        "    self.relu = nn.ReLU()\n",
        "    self.softmax = nn.LogSoftmax(dim = 1)\n",
        "\n",
        "  def forward(self, image):\n",
        "    a = image.view(-1, input_size)\n",
        "    a = self.linear1(a)\n",
        "    a = self.relu(a)\n",
        "    a = self.linear2(a)\n",
        "    a = self.relu(a)\n",
        "    a = self.linear3(a)\n",
        "    a = self.relu(a)\n",
        "    a = self.linear4(a)\n",
        "    a = self.softmax(a)\n",
        "    return a"
      ],
      "metadata": {
        "id": "wXGmMidmCbhT"
      },
      "execution_count": null,
      "outputs": []
    },
    {
      "cell_type": "code",
      "source": [
        "model_relu = classificationmodel_relu(input_size, hidden_layer_1, hidden_layer_2, hidden_layer_3, output_layer)"
      ],
      "metadata": {
        "id": "6ex4YuqDG3d-"
      },
      "execution_count": null,
      "outputs": []
    },
    {
      "cell_type": "code",
      "source": [
        "class classificationmodel_tanh(nn.Module):\n",
        "  def __init__(self, input_size, hidden_layer_1, hidden_layer_2, hidden_layer_3, output_layer):\n",
        "    super(classificationmodel_tanh,self).__init__()\n",
        "    self.linear1 = nn.Linear(input_size, hidden_layer_1)\n",
        "    self.linear2 = nn.Linear(hidden_layer_1, hidden_layer_2)\n",
        "    self.linear3 = nn.Linear(hidden_layer_2, hidden_layer_3)\n",
        "    self.linear4 = nn.Linear(hidden_layer_3, output_layer)\n",
        "    self.tanh = nn.Tanh()\n",
        "    self.softmax = nn.LogSoftmax(dim = 1)\n",
        "\n",
        "  def forward(self, image):\n",
        "    a = image.view(-1, input_size)\n",
        "    a = self.linear1(a)\n",
        "    a = self.tanh(a)\n",
        "    a = self.linear2(a)\n",
        "    a = self.tanh(a)\n",
        "    a = self.linear3(a)\n",
        "    a = self.tanh(a)\n",
        "    a = self.linear4(a)\n",
        "    a = self.softmax(a)\n",
        "    return a"
      ],
      "metadata": {
        "id": "x0FG-XYI9HE5"
      },
      "execution_count": null,
      "outputs": []
    },
    {
      "cell_type": "code",
      "source": [
        "model_tanh = classificationmodel_tanh(input_size, hidden_layer_1, hidden_layer_2, hidden_layer_3, output_layer)"
      ],
      "metadata": {
        "id": "tDbH3Mn79Yso"
      },
      "execution_count": null,
      "outputs": []
    },
    {
      "cell_type": "code",
      "source": [
        "#Training\n",
        "def train(model, optimizer):\n",
        "  n_steps = len(train_loader)\n",
        "  for e in range(n_epochs):\n",
        "      running_loss = 0\n",
        "      iter = 0\n",
        "      print(f'epoch = {e}')\n",
        "      for x, (images, labels) in enumerate(train_loader):\n",
        "        # Flatten the Image from 28*28 to 784 column vector\n",
        "        images = images.view(images.shape[0], -1)\n",
        "        \n",
        "        # setting gradient to zeros   \n",
        "        output = model(images)\n",
        "        loss = criterion(output, labels)\n",
        "        optimizer.zero_grad()    \n",
        "        # backward propagation\n",
        "        loss.backward()\n",
        "        # update the gradient to new gradients\n",
        "        optimizer.step()\n",
        "        if (x+1)%100 == 0:\n",
        "          running_loss += loss.item()\n",
        "        iter +=1\n",
        "        if iter % 500 == 0:\n",
        "          # Calculate Accuracy         \n",
        "          correct = 0\n",
        "          total = 0\n",
        "          # Iterate through test dataset\n",
        "          for images, labels in test_loader:\n",
        "            # Load images to a Torch Variable\n",
        "            images = images.view(images.shape[0], -1)\n",
        "            \n",
        "            # Forward pass only to get logits/output\n",
        "            outputs = model(images)\n",
        "            \n",
        "            # Get predictions from the maximum value\n",
        "            _, predicted = torch.max(outputs.data, 1)\n",
        "            \n",
        "            # Total number of labels\n",
        "            total += labels.size(0)\n",
        "            \n",
        "            # Total correct predictions\n",
        "            correct += (predicted == labels).sum()\n",
        "        \n",
        "          accuracy = 100 * correct / total\n",
        "          \n",
        "          # Print Loss\n",
        "          print('Iteration: {}. Loss: {}. Accuracy: {}'.format(iter, loss.item(), accuracy))\n",
        "  print(f'epochs [{e+1}/{n_epochs}],Step[{x+1}/{n_steps}],Losses:  {loss.item():.4f}')"
      ],
      "metadata": {
        "id": "i_2gJBtNuj1j"
      },
      "execution_count": null,
      "outputs": []
    },
    {
      "cell_type": "code",
      "source": [
        "def accuracy(model, data_loader):\n",
        "  model.eval()\n",
        "  loss = 0\n",
        "  correct = 0\n",
        "  with torch.no_grad():\n",
        "    for image, label in data_loader:\n",
        "      output = model(image)\n",
        "      loss  += criterion(output, label).item()\n",
        "      pred = output.argmax(dim = 1, keepdim = True)\n",
        "      correct += pred.eq(label.view_as(pred)).sum().item()\n",
        "  \n",
        "  loss /=len(data_loader.dataset)\n",
        "\n",
        "  print('\\nAverage loss: {:.4f}, Accuracy: {}/{} ({:.0f}%)\\n'.format(\n",
        "        loss, correct, len(data_loader.dataset),\n",
        "        100. * correct / len(data_loader.dataset)))\n"
      ],
      "metadata": {
        "id": "iEgYgYwTlsPN"
      },
      "execution_count": null,
      "outputs": []
    },
    {
      "cell_type": "code",
      "source": [
        "criterion = nn.CrossEntropyLoss()\n",
        "optimizer_sigmoid = torch.optim.Adam(model_sigmoid.parameters(), lr = learning_rate)\n",
        "optimizer_relu = torch.optim.Adam(model_relu.parameters(), lr = learning_rate)\n",
        "optimizer_tanh = torch.optim.Adam(model_tanh.parameters(), lr = learning_rate)"
      ],
      "metadata": {
        "id": "f1egNp0guUfS"
      },
      "execution_count": null,
      "outputs": []
    },
    {
      "cell_type": "markdown",
      "source": [
        "## **Training for Sigmoid Activation**"
      ],
      "metadata": {
        "id": "WSOPvHAF-qsS"
      }
    },
    {
      "cell_type": "code",
      "source": [
        "train(model_sigmoid, optimizer_sigmoid)"
      ],
      "metadata": {
        "colab": {
          "base_uri": "https://localhost:8080/"
        },
        "id": "oWaKtXR79tJd",
        "outputId": "22a5220a-4292-4958-c6bb-d32c819bf6a0"
      },
      "execution_count": null,
      "outputs": [
        {
          "output_type": "stream",
          "name": "stdout",
          "text": [
            "epoch = 0\n",
            "Iteration: 500. Loss: 0.02223104238510132. Accuracy: 96.38999938964844\n",
            "epoch = 1\n",
            "Iteration: 500. Loss: 0.07424124330282211. Accuracy: 96.88999938964844\n",
            "epoch = 2\n",
            "Iteration: 500. Loss: 0.13215449452400208. Accuracy: 96.62000274658203\n",
            "epoch = 3\n",
            "Iteration: 500. Loss: 0.020750051364302635. Accuracy: 96.68000030517578\n",
            "epoch = 4\n",
            "Iteration: 500. Loss: 0.009185138158500195. Accuracy: 96.94000244140625\n",
            "epochs [5/5],Step[938/938],Losses:  0.1411\n"
          ]
        }
      ]
    },
    {
      "cell_type": "code",
      "source": [
        "print('On the Train Set: ')\n",
        "accuracy(model_sigmoid, train_loader)\n",
        "print('On the Test Set: ')\n",
        "accuracy(model_sigmoid, test_loader)"
      ],
      "metadata": {
        "colab": {
          "base_uri": "https://localhost:8080/"
        },
        "id": "n4KXOWeQ7srm",
        "outputId": "5980539a-237b-49d6-8031-297c807cd37c"
      },
      "execution_count": null,
      "outputs": [
        {
          "output_type": "stream",
          "name": "stdout",
          "text": [
            "On the Train Set: \n",
            "\n",
            "Average loss: 0.0010, Accuracy: 58813/60000 (98%)\n",
            "\n",
            "On the Test Set: \n",
            "\n",
            "Average loss: 0.0001, Accuracy: 9679/10000 (97%)\n",
            "\n"
          ]
        }
      ]
    },
    {
      "cell_type": "markdown",
      "source": [
        "## **Training for ReLU activation**"
      ],
      "metadata": {
        "id": "qy74nYpK-zLm"
      }
    },
    {
      "cell_type": "code",
      "source": [
        "train(model_relu, optimizer_relu)"
      ],
      "metadata": {
        "colab": {
          "base_uri": "https://localhost:8080/"
        },
        "id": "emkoEtJ6-m7a",
        "outputId": "0ea117f1-8d58-4238-9a42-fe6daf571824"
      },
      "execution_count": null,
      "outputs": [
        {
          "output_type": "stream",
          "name": "stdout",
          "text": [
            "epoch = 0\n",
            "Iteration: 500. Loss: 0.16824673116207123. Accuracy: 93.94000244140625\n",
            "epoch = 1\n",
            "Iteration: 500. Loss: 0.08231014013290405. Accuracy: 96.4000015258789\n",
            "epoch = 2\n",
            "Iteration: 500. Loss: 0.2521880269050598. Accuracy: 96.16999816894531\n",
            "epoch = 3\n",
            "Iteration: 500. Loss: 0.20854493975639343. Accuracy: 96.41000366210938\n",
            "epoch = 4\n",
            "Iteration: 500. Loss: 0.04136047512292862. Accuracy: 96.1500015258789\n",
            "epochs [5/5],Step[938/938],Losses:  0.1098\n"
          ]
        }
      ]
    },
    {
      "cell_type": "code",
      "source": [
        "print('On the Train Set: ')\n",
        "accuracy(model_relu, train_loader)\n",
        "print('On the Test Set: ')\n",
        "accuracy(model_relu, test_loader)"
      ],
      "metadata": {
        "colab": {
          "base_uri": "https://localhost:8080/"
        },
        "id": "aTzvkGyf_Ze0",
        "outputId": "2fa375f1-4833-4080-dd7c-f0fe707b8015"
      },
      "execution_count": null,
      "outputs": [
        {
          "output_type": "stream",
          "name": "stdout",
          "text": [
            "On the Train Set: \n",
            "\n",
            "Average loss: 0.0016, Accuracy: 58498/60000 (97%)\n",
            "\n",
            "On the Test Set: \n",
            "\n",
            "Average loss: 0.0002, Accuracy: 9620/10000 (96%)\n",
            "\n"
          ]
        }
      ]
    },
    {
      "cell_type": "markdown",
      "source": [
        "## **Training for TanH Activation**"
      ],
      "metadata": {
        "id": "TMHFczOB_af4"
      }
    },
    {
      "cell_type": "code",
      "source": [
        "train(model_tanh, optimizer_tanh)"
      ],
      "metadata": {
        "colab": {
          "base_uri": "https://localhost:8080/"
        },
        "id": "c8t96gU7_hGu",
        "outputId": "620f18d0-1203-4bee-f128-4d733a846a40"
      },
      "execution_count": null,
      "outputs": [
        {
          "output_type": "stream",
          "name": "stdout",
          "text": [
            "epoch = 0\n",
            "Iteration: 500. Loss: 0.41016891598701477. Accuracy: 90.2300033569336\n",
            "epoch = 1\n",
            "Iteration: 500. Loss: 0.46348047256469727. Accuracy: 85.3499984741211\n",
            "epoch = 2\n",
            "Iteration: 500. Loss: 0.2446739375591278. Accuracy: 85.9800033569336\n",
            "epoch = 3\n",
            "Iteration: 500. Loss: 0.48340320587158203. Accuracy: 87.58999633789062\n",
            "epoch = 4\n",
            "Iteration: 500. Loss: 0.9405316114425659. Accuracy: 82.93000030517578\n",
            "epochs [5/5],Step[938/938],Losses:  0.2936\n"
          ]
        }
      ]
    },
    {
      "cell_type": "code",
      "source": [
        "print('On the Train Set: ')\n",
        "accuracy(model_tanh, train_loader)\n",
        "print('On the Test Set: ')\n",
        "accuracy(model_tanh, test_loader)"
      ],
      "metadata": {
        "colab": {
          "base_uri": "https://localhost:8080/"
        },
        "id": "Dki6Zhbl_len",
        "outputId": "2175c59c-706d-4911-9eba-c4ef052ddef3"
      },
      "execution_count": null,
      "outputs": [
        {
          "output_type": "stream",
          "name": "stdout",
          "text": [
            "On the Train Set: \n",
            "\n",
            "Average loss: 0.0069, Accuracy: 52729/60000 (88%)\n",
            "\n",
            "On the Test Set: \n",
            "\n",
            "Average loss: 0.0004, Accuracy: 8785/10000 (88%)\n",
            "\n"
          ]
        }
      ]
    },
    {
      "cell_type": "code",
      "source": [
        "def view_classify(img, ps):\n",
        "    ps = ps.data.numpy().squeeze()\n",
        "    fig, (ax1, ax2) = plt.subplots(figsize=(6,9), ncols=2)\n",
        "    ax1.imshow(img.resize_(1, 28, 28).numpy().squeeze())\n",
        "    ax1.axis('off')\n",
        "    ax2.barh(np.arange(10), ps)\n",
        "    ax2.set_aspect(0.1)\n",
        "    ax2.set_yticks(np.arange(10))\n",
        "    ax2.set_yticklabels(np.arange(10))\n",
        "    ax2.set_title('Class Probability')\n",
        "    ax2.set_xlim(0, 1.1)\n",
        "    plt.tight_layout()"
      ],
      "metadata": {
        "id": "gJGvE2X1vIRU"
      },
      "execution_count": null,
      "outputs": []
    },
    {
      "cell_type": "code",
      "source": [
        "# Getting the image to test\n",
        "images, labels = next(iter(train_loader))\n",
        "# Flatten the image to pass in the model\n",
        "img = images[0].view(1, 784)\n",
        "# Turn off gradients to speed up this part\n",
        "with torch.no_grad():\n",
        "    logps = model(img)\n",
        "# Output of the network are log-probabilities, need to take exponential for probabilities\n",
        "ps = torch.exp(logps)\n",
        "view_classify(img, ps)"
      ],
      "metadata": {
        "colab": {
          "base_uri": "https://localhost:8080/",
          "height": 253
        },
        "id": "pKDFA5dOvCer",
        "outputId": "f4ab2013-f25b-4002-fc50-9532b72c32d6"
      },
      "execution_count": null,
      "outputs": [
        {
          "output_type": "display_data",
          "data": {
            "text/plain": [
              "<Figure size 432x648 with 2 Axes>"
            ],
            "image/png": "[encoded data removed]"
          },
          "metadata": {
            "needs_background": "light"
          }
        }
      ]
    },
    {
      "cell_type": "markdown",
      "source": [
        "# Observations:\n",
        "\n",
        "## Sigmoid gives accuracy as:\n",
        "  * **Training: 98%**\n",
        "  * **Testing: 97%**\n",
        "\n",
        "## ReLU gives accuracy as:\n",
        "  * **Training: 97%**\n",
        "  * **Testing: 96%**\n",
        "\n",
        "## TanH gives accuracy as:\n",
        "  * **Training: 88%**\n",
        "  * **Testing: 88%**\n",
        "\n"
      ],
      "metadata": {
        "id": "s06z9XkFTDh_"
      }
    }
  ]
}