{
 "cells": [
  {
   "cell_type": "markdown",
   "id": "0242b512",
   "metadata": {},
   "source": [
    "# DEEP LEARNING MODEL ON MNIST DATASET\n",
    "\n",
    "## The architecture of this model comprises of three hidden layer with 500, 250 and 100 being their respective sizes\n",
    "\n",
    "---\n",
    "\n",
    "### The aim is to model a complete handwritten digit recognizer, train it on the train set comprising 60,000 images and test performance on the test set comprising 10,000 images\n",
    "\n",
    "---\n",
    "\n",
    "## Baseline model includes: \n",
    "   - **Training data size of MNIST data = 60,000**\n",
    "       * **with its respective batch size being 64**\n",
    "   - **Testing data size of MNIST data = 10,000**\n",
    "   - **Learning rate = 0.01**\n",
    "   - **number of epochs = 15** \n",
    "   \n"
   ]
  },
  {
   "cell_type": "markdown",
   "id": "6cb9f7c7",
   "metadata": {},
   "source": [
    "## Libraries"
   ]
  },
  {
   "cell_type": "code",
   "execution_count": 4,
   "id": "d8db9590",
   "metadata": {},
   "outputs": [
    {
     "data": {
      "text/plain": [
       "device(type='cuda', index=0)"
      ]
     },
     "execution_count": 4,
     "metadata": {},
     "output_type": "execute_result"
    }
   ],
   "source": [
    "import numpy as np\n",
    "import matplotlib.pyplot as plt\n",
    "import torch\n",
    "import torchvision.datasets as data\n",
    "from torchvision.transforms import ToTensor\n",
    "from torch.utils.data import DataLoader\n",
    "from sklearn.metrics import confusion_matrix, classification_report\n",
    "\n",
    "%matplotlib inline\n",
    "plt.rcParams['figure.figsize'] = (7.0, 4.0) # set default size of plots\n",
    "\n",
    "#Setting up GPU\n",
    "device = torch.device(\"cuda:0\" if torch.cuda.is_available() else \"cpu\")\n",
    "device"
   ]
  },
  {
   "cell_type": "code",
   "execution_count": 5,
   "id": "b864efb6",
   "metadata": {},
   "outputs": [
    {
     "name": "stdout",
     "output_type": "stream",
     "text": [
      "Feature batch shape: torch.Size([60000, 28, 28])\n",
      "Labels batch shape: torch.Size([60000])\n"
     ]
    },
    {
     "data": {
      "image/png": "[encoded data removed]",
      "text/plain": [
       "<Figure size 504x288 with 6 Axes>"
      ]
     },
     "metadata": {},
     "output_type": "display_data"
    }
   ],
   "source": [
    "train_set = data.MNIST(root = 'MNIST/raw/train-images-idx3-ubyte', train = True, transform= ToTensor(), download = True)\n",
    "test_set = data.MNIST(root= 'MNIST/raw/train-images-idx3-ubyte', train= False, transform= ToTensor(), download = True)\n",
    "\n",
    "train_features = train_set.data\n",
    "train_labels = train_set.targets\n",
    "# Visualising data\n",
    "# Display image and label\n",
    "\n",
    "print(f\"Feature batch shape: {train_features.size()}\")\n",
    "print(f\"Labels batch shape: {train_labels.size()}\")\n",
    "\n",
    "fig = plt.figure()\n",
    "for i in range(6):\n",
    "  plt.subplot(2,3,i+1)\n",
    "  plt.tight_layout()\n",
    "  plt.imshow(train_features[i].squeeze(), cmap='gray', interpolation='none')\n",
    "  plt.title(\"Ground Truth: {}\".format(train_labels[i]))\n",
    "  plt.xticks([])\n",
    "  plt.yticks([])\n",
    "plt.show()\n"
   ]
  },
  {
   "cell_type": "code",
   "execution_count": 6,
   "id": "aafa4711",
   "metadata": {},
   "outputs": [],
   "source": [
    "batchsize = 64\n",
    "input_size = (train_features.reshape(train_features.shape[0],-1)).shape[1]\n",
    "hidden_layer_1 = 500\n",
    "hidden_layer_2 = 250\n",
    "hidden_layer_3 = 100\n",
    "output_layer = 10\n",
    "learning_rate = 0.01"
   ]
  },
  {
   "cell_type": "code",
   "execution_count": 34,
   "id": "c7f12b43",
   "metadata": {},
   "outputs": [],
   "source": [
    "def one_hot_encode(Y):\n",
    "  output = np.eye(10)[np.array(Y).reshape(-1)]\n",
    "  return output.reshape(list(np.shape(Y))+[10])\n",
    "\n",
    "\n",
    "def tanh(x):\n",
    "    return ((np.exp(x)-np.exp(-x))/(np.exp(x)+np.exp(-x)))\n",
    "\n",
    "\n",
    "def softmax(x):\n",
    "    return np.exp(x)/sum(np.exp(x))\n",
    "    \n",
    "def derivative_tanh(x):\n",
    "    t = activation(x, 'TANH')\n",
    "    return (1-t**2)\n",
    "\n",
    "def data_flattening(features, labels, one_hot = True):\n",
    "    features = features.numpy()\n",
    "    labels = labels.numpy()\n",
    "    X = (features.reshape(features.shape[0], -1))\n",
    "    if one_hot:\n",
    "      Y = one_hot_encode(labels)\n",
    "    else:\n",
    "      Y = labels\n",
    "    return X, Y\n",
    "\n",
    "#Function to Initialise the parameters\n",
    "\n",
    "def initialise_parameter(dim):\n",
    "  np.random.seed(11)\n",
    "\n",
    "  parameters = {}\n",
    "  L = len(dim)\n",
    "  for i in range(1, L):\n",
    "    Ni = dim[i-1]\n",
    "    No = dim[i]\n",
    "    M = np.sqrt(6/(Ni+No)) \n",
    "    parameters[\"W\" + str(i)] = np.asarray(np.random.uniform(-M, M,size = (No,Ni)))\n",
    "    parameters[\"b\" + str(i)] = np.zeros((dim[i], 1))\n",
    "        \n",
    "    assert(parameters[\"W\" + str(i)].shape == (dim[i], dim[i-1]))\n",
    "    assert(parameters[\"b\" + str(i)].shape == (dim[i], 1))\n",
    "  return parameters\n",
    "\n",
    "\n",
    "def forward_propagation(X,parameters):\n",
    "    W1=parameters[\"W1\"]\n",
    "    b1=parameters[\"b1\"]\n",
    "    W2=parameters[\"W2\"]\n",
    "    b2=parameters[\"b2\"]\n",
    "    W3=parameters[\"W3\"]\n",
    "    b3=parameters[\"b3\"]\n",
    "    W4=parameters[\"W4\"]\n",
    "    b4=parameters[\"b4\"]\n",
    "    Z1=np.dot(W1,X.T)+b1\n",
    "    A1=tanh(Z1)\n",
    "    Z2 = np.dot(W2,A1) + b2\n",
    "    A2=tanh(Z2)\n",
    "    Z3 = np.dot(W3,A2) + b3\n",
    "    A3=tanh(Z3)\n",
    "    Z4=np.dot(W4,A3)+b4\n",
    "    A4=softmax(Z4)\n",
    "\n",
    "    cache = (Z1, A1, W1, b1, Z2, A2, W2, b2, Z3, A3, W3, b3 , Z4 ,A4 , W4 , b4)\n",
    "\n",
    "    return A4,cache\n",
    "\n",
    "# GRADED FUNCTION: backward_propagation_with_regularization\n",
    "\n",
    "def backward_propagation(X, Y, cache, lambd):\n",
    "   \n",
    "    m = batchsize\n",
    "    (Z1, A1, W1, b1, Z2, A2, W2, b2, Z3, A3, W3, b3 , Z4 ,A4 , W4 , b4) = cache\n",
    "   \n",
    "    dZ4 = A4 - Y\n",
    "    dW4 = (1./m)*((np.dot(dZ4, A3.T)))+((lambd/m)*W4)\n",
    "    db4 = 1./m * np.sum(dZ4, axis=1, keepdims = True)\n",
    "    \n",
    "    dA3 = np.dot(W4.T, dZ4)\n",
    "    dZ3 = np.multiply(dA3, derivative_tanh(A3))\n",
    "    dW3 = (1./m)*((np.dot(dZ3, A2.T)))+((lambd/m)*W3)\n",
    "    db3 = 1./m * np.sum(dZ3, axis=1, keepdims = True)\n",
    "    \n",
    "    dA2 = np.dot(W3.T, dZ3)\n",
    "    dZ2 = np.multiply(dA2, derivative_tanh(A2))\n",
    "    dW2 = (1./m)*((np.dot(dZ2, A1.T)))+((lambd/m)*W2)\n",
    "    db2 = 1./m * np.sum(dZ2, axis=1, keepdims = True)\n",
    "    \n",
    "    dA1 = np.dot(W2.T, dZ2)\n",
    "    dZ1 = np.multiply(dA1, derivative_tanh(A1))\n",
    "    dW1 = (1./m)*((np.dot(dZ1, X)))+((lambd/m)*W1)\n",
    "    db1 = 1./m * np.sum(dZ1, axis=1, keepdims = True)\n",
    "    \n",
    "    gradients = {\"dZ4\": dZ4, \"dW4\": dW4, \"db4\": db4,\n",
    "                \"dA3\": dA3, \"dZ3\": dZ3, \"dW3\": dW3, \"db3\": db3,\n",
    "                \"dA2\": dA2, \"dZ2\": dZ2, \"dW2\": dW2, \"db2\": db2,\n",
    "                \"dA1\": dA1, \"dZ1\": dZ1, \"dW1\": dW1, \"db1\": db1}\n",
    "    \n",
    "    return gradients\n",
    "\n",
    "def compute_cost(A, Y,cache, lambd):    \n",
    "    #A is predicted\n",
    "    #Y is actual\n",
    "    m = Y.shape[1] \n",
    "    (Z1, A1, W1, b1, Z2, A2, W2, b2, Z3, A3, W3, b3 , Z4 ,A4 , W4 , b4) = cache\n",
    "    logprobs = np.multiply(-np.log(A),Y) + np.multiply(-np.log(1 - A), 1 - Y)\n",
    "    cost = 1./m * np.nansum(logprobs)\n",
    "    L2_regularization_cost = (lambd/(2*m))*(np.sum(np.square(W1))+np.sum(np.square(W2))+np.sum(np.square(W3))+np.sum(np.square(W4)))\n",
    "    costTotal = cost + L2_regularization_cost\n",
    "    return costTotal\n",
    "\n",
    "#Function to update the parameters\n",
    "\n",
    "def update_parameters(parameters, grads, learning_rate):\n",
    "    W1 = parameters[\"W1\"]\n",
    "    b1 = parameters[\"b1\"]\n",
    "    W2 = parameters[\"W2\"]\n",
    "    b2 = parameters[\"b2\"]\n",
    "    W3 = parameters[\"W3\"]\n",
    "    b3 = parameters[\"b3\"]\n",
    "    W4 = parameters[\"W4\"]\n",
    "    b4 = parameters[\"b4\"]\n",
    "    dW1 = grads[\"dW1\"]\n",
    "    db1 = grads[\"db1\"]\n",
    "    dW2 = grads[\"dW2\"]\n",
    "    db2 = grads[\"db2\"]\n",
    "    dW3 = grads[\"dW3\"]\n",
    "    db3 = grads[\"db3\"]\n",
    "    dW4 = grads[\"dW4\"]\n",
    "    db4 = grads[\"db4\"]\n",
    "    W1 = W1 - learning_rate * dW1\n",
    "    b1 = b1 - learning_rate * db1\n",
    "    W2 = W2 - learning_rate * dW2\n",
    "    b2 = b2 - learning_rate * db2\n",
    "    W3 = W3 - learning_rate * dW3\n",
    "    b3 = b3 - learning_rate * db3\n",
    "    W4 = W4 - learning_rate * dW4\n",
    "    b4 = b4 - learning_rate * db4\n",
    "    \n",
    "    parameters={\"W1\":W1, \"b1\":b1,\n",
    "                \"W2\":W2, \"b2\":b2,\n",
    "                \"W3\":W3, \"b3\":b3,\n",
    "                \"W4\":W4, \"b4\":b4}\n",
    "    return parameters\n",
    "\n",
    "# Predict Labels\n",
    "\n",
    "def Accuracy(dataset, parameters, size):\n",
    "  \n",
    "    features = dataset.data\n",
    "    labels = dataset.targets\n",
    "    X, Y = data_flattening(features, labels, one_hot = False)\n",
    "    y = Y.T\n",
    "    p = np.zeros(size, dtype = int)\n",
    "    # Forward propagation\n",
    "    a4, caches = forward_propagation(X, parameters)\n",
    "    p = np.argmax(a4, axis = 0)\n",
    "    a = np.mean((p == y))\n",
    "    \n",
    "    print(\"accuracy is =\" + str(a))\n",
    "    \n",
    "    return y, p\n",
    "\n",
    "def find_accuracy(y_actual,y_pred):\n",
    "    accuracy = np.count_nonzero(np.argmax(y_pred,axis=0)==np.argmax(y_actual,axis=1))/y_actual.shape[0]\n",
    "    return accuracy\n",
    "\n",
    "def predict(X,Y,parameters):\n",
    "\n",
    "    \"\"\"\n",
    "    This function is used to predict the results of a  n-layer neural network.\n",
    "    \n",
    "    Arguments:\n",
    "    X -- data set of examples you would like to label\n",
    "    Y -- data set of examples\n",
    "    parameters -- parameters of the trained model\n",
    "    \n",
    "    Returns:\n",
    "    ypred -- predictions for the given dataset X\n",
    "    \"\"\"\n",
    "\n",
    "    y_pred,cache=forward_propagation(X,parameters)\n",
    "    return y_pred"
   ]
  },
  {
   "cell_type": "code",
   "execution_count": 35,
   "id": "767e88ad",
   "metadata": {},
   "outputs": [],
   "source": [
    "def model(dataset, numEpochs, lambd):\n",
    "    \n",
    "    k=len(dataset)                               #length of the dataset\n",
    "    numBatches=k/batchsize\n",
    "    layers_dims = [input_size, hidden_layer_1, hidden_layer_2, hidden_layer_3, output_layer]# number of batches = 60000/64 = 937\n",
    "    parameters=initialise_parameter(layers_dims)     # initializing the parameters\n",
    "    costs=[]                                          #cost accumulation\n",
    "    acc=[]                                            #accuracy \n",
    "    for epoch in range(numEpochs):\n",
    "        for j in range(int(numBatches)):\n",
    "            # Data loader\n",
    "            loader = DataLoader(dataset=dataset,batch_size = batchsize ,shuffle=True)      \n",
    "            dataiter = iter(loader)\n",
    "            data = next(dataiter)\n",
    "            features, labels = data\n",
    "            \n",
    "            X, Y = data_flattening(features, labels, True)\n",
    "            y_pred,cache=forward_propagation(X,parameters)\n",
    "            cost=compute_cost(y_pred,Y.T, cache, lambd)\n",
    "            gradients=backward_propagation(X,Y.T,cache, lambd)\n",
    "            parameters=update_parameters(parameters,gradients,learning_rate)\n",
    "            if j%200 ==0:\n",
    "                print (f'Epoch [{epoch+1}/{numEpochs}], Step [{j+1}/{int(numBatches)}], Loss: {cost.item():.4f}')\n",
    "            acc.append(find_accuracy(Y,y_pred))\n",
    "            costs.append(cost)\n",
    "    return parameters, costs, acc"
   ]
  },
  {
   "cell_type": "code",
   "execution_count": 41,
   "id": "6f90a7e2",
   "metadata": {},
   "outputs": [
    {
     "name": "stdout",
     "output_type": "stream",
     "text": [
      "Epoch [1/15], Step [1/937], Loss: 9.2180\n",
      "Epoch [1/15], Step [201/937], Loss: 6.9773\n",
      "Epoch [1/15], Step [401/937], Loss: 6.6116\n",
      "Epoch [1/15], Step [601/937], Loss: 6.2354\n",
      "Epoch [1/15], Step [801/937], Loss: 5.8071\n",
      "Epoch [2/15], Step [1/937], Loss: 5.9277\n",
      "Epoch [2/15], Step [201/937], Loss: 5.3748\n",
      "Epoch [2/15], Step [401/937], Loss: 5.1373\n",
      "Epoch [2/15], Step [601/937], Loss: 5.0750\n",
      "Epoch [2/15], Step [801/937], Loss: 4.8159\n",
      "Epoch [3/15], Step [1/937], Loss: 4.6255\n",
      "Epoch [3/15], Step [201/937], Loss: 4.6047\n",
      "Epoch [3/15], Step [401/937], Loss: 4.5472\n",
      "Epoch [3/15], Step [601/937], Loss: 4.4994\n",
      "Epoch [3/15], Step [801/937], Loss: 4.1898\n",
      "Epoch [4/15], Step [1/937], Loss: 3.9538\n",
      "Epoch [4/15], Step [201/937], Loss: 3.8346\n",
      "Epoch [4/15], Step [401/937], Loss: 4.0730\n",
      "Epoch [4/15], Step [601/937], Loss: 3.4899\n",
      "Epoch [4/15], Step [801/937], Loss: 3.6199\n",
      "Epoch [5/15], Step [1/937], Loss: 3.4327\n",
      "Epoch [5/15], Step [201/937], Loss: 3.2664\n",
      "Epoch [5/15], Step [401/937], Loss: 3.1833\n",
      "Epoch [5/15], Step [601/937], Loss: 3.0535\n",
      "Epoch [5/15], Step [801/937], Loss: 2.8444\n",
      "Epoch [6/15], Step [1/937], Loss: 3.1384\n",
      "Epoch [6/15], Step [201/937], Loss: 2.6813\n",
      "Epoch [6/15], Step [401/937], Loss: 2.8368\n",
      "Epoch [6/15], Step [601/937], Loss: 2.5131\n",
      "Epoch [6/15], Step [801/937], Loss: 2.3151\n",
      "Epoch [7/15], Step [1/937], Loss: 2.6430\n",
      "Epoch [7/15], Step [201/937], Loss: 2.2990\n",
      "Epoch [7/15], Step [401/937], Loss: 2.3621\n",
      "Epoch [7/15], Step [601/937], Loss: 2.2973\n",
      "Epoch [7/15], Step [801/937], Loss: 2.4129\n",
      "Epoch [8/15], Step [1/937], Loss: 2.4792\n",
      "Epoch [8/15], Step [201/937], Loss: 2.0638\n",
      "Epoch [8/15], Step [401/937], Loss: 2.0477\n",
      "Epoch [8/15], Step [601/937], Loss: 2.0168\n",
      "Epoch [8/15], Step [801/937], Loss: 2.0216\n",
      "Epoch [9/15], Step [1/937], Loss: 1.9025\n",
      "Epoch [9/15], Step [201/937], Loss: 1.9421\n",
      "Epoch [9/15], Step [401/937], Loss: 1.6988\n",
      "Epoch [9/15], Step [601/937], Loss: 2.0338\n",
      "Epoch [9/15], Step [801/937], Loss: 2.0210\n",
      "Epoch [10/15], Step [1/937], Loss: 1.9000\n",
      "Epoch [10/15], Step [201/937], Loss: 1.7415\n",
      "Epoch [10/15], Step [401/937], Loss: 1.8228\n",
      "Epoch [10/15], Step [601/937], Loss: 1.7201\n",
      "Epoch [10/15], Step [801/937], Loss: 1.4069\n",
      "Epoch [11/15], Step [1/937], Loss: 1.5675\n",
      "Epoch [11/15], Step [201/937], Loss: 1.7428\n",
      "Epoch [11/15], Step [401/937], Loss: 1.6723\n",
      "Epoch [11/15], Step [601/937], Loss: 1.6761\n",
      "Epoch [11/15], Step [801/937], Loss: 1.4715\n",
      "Epoch [12/15], Step [1/937], Loss: 1.7129\n",
      "Epoch [12/15], Step [201/937], Loss: 1.4249\n",
      "Epoch [12/15], Step [401/937], Loss: 1.4464\n",
      "Epoch [12/15], Step [601/937], Loss: 1.4510\n",
      "Epoch [12/15], Step [801/937], Loss: 1.2633\n",
      "Epoch [13/15], Step [1/937], Loss: 1.2307\n",
      "Epoch [13/15], Step [201/937], Loss: 1.2086\n",
      "Epoch [13/15], Step [401/937], Loss: 1.3936\n",
      "Epoch [13/15], Step [601/937], Loss: 1.1806\n",
      "Epoch [13/15], Step [801/937], Loss: 1.2469\n",
      "Epoch [14/15], Step [1/937], Loss: 1.1430\n",
      "Epoch [14/15], Step [201/937], Loss: 1.4050\n",
      "Epoch [14/15], Step [401/937], Loss: 1.2918\n",
      "Epoch [14/15], Step [601/937], Loss: 1.3070\n",
      "Epoch [14/15], Step [801/937], Loss: 1.1565\n",
      "Epoch [15/15], Step [1/937], Loss: 1.1579\n",
      "Epoch [15/15], Step [201/937], Loss: 1.4134\n",
      "Epoch [15/15], Step [401/937], Loss: 1.0654\n",
      "Epoch [15/15], Step [601/937], Loss: 1.0153\n",
      "Epoch [15/15], Step [801/937], Loss: 1.1690\n"
     ]
    }
   ],
   "source": [
    "train_parameters, train_costs, train_acc = model(train_set,15, 0.7)"
   ]
  },
  {
   "cell_type": "code",
   "execution_count": 43,
   "id": "20e60f7b",
   "metadata": {},
   "outputs": [
    {
     "data": {
      "text/plain": [
       "0.953125"
      ]
     },
     "execution_count": 43,
     "metadata": {},
     "output_type": "execute_result"
    }
   ],
   "source": [
    "train_acc[-1]"
   ]
  },
  {
   "cell_type": "code",
   "execution_count": 44,
   "id": "3910069a",
   "metadata": {},
   "outputs": [
    {
     "name": "stdout",
     "output_type": "stream",
     "text": [
      "On the TEST set:\n",
      "accuracy is =0.9095\n"
     ]
    }
   ],
   "source": [
    "print (\"On the TEST set:\")\n",
    "y_actual_test, y_pred_test = Accuracy(test_set, trained_parameters, 10000)"
   ]
  },
  {
   "cell_type": "code",
   "execution_count": 45,
   "id": "5929af1e",
   "metadata": {},
   "outputs": [
    {
     "data": {
      "text/plain": [
       "Text(0.5, 1.0, 'Confusion Matrix of Sigmoid Test Data')"
      ]
     },
     "execution_count": 45,
     "metadata": {},
     "output_type": "execute_result"
    },
    {
     "data": {
      "image/png": "[encoded data removed]",
      "text/plain": [
       "<Figure size 576x576 with 2 Axes>"
      ]
     },
     "metadata": {
      "needs_background": "light"
     },
     "output_type": "display_data"
    }
   ],
   "source": [
    "#to get the heatmap for the confusion matrix\n",
    "import seaborn as sn\n",
    "plt.figure(figsize=(8,8))\n",
    "sn.heatmap(confusion_matrix(y_actual_test, y_pred_test),annot=True,fmt='d')\n",
    "plt.xlabel('Predicted Label')\n",
    "plt.ylabel('Trut Label')\n",
    "plt.title('Confusion Matrix of Sigmoid Test Data')"
   ]
  },
  {
   "cell_type": "code",
   "execution_count": 46,
   "id": "57412bdf",
   "metadata": {},
   "outputs": [
    {
     "name": "stdout",
     "output_type": "stream",
     "text": [
      "[[ 964    0    0    1    0    0    6    1    8    0]\n",
      " [   0 1087    3    3    1    0    4    1   35    1]\n",
      " [  13    3  929    9    6    0   15    7   42    8]\n",
      " [   8    0   18  918    0   10    2    7   44    3]\n",
      " [   1    3    4    0  839    0   15    1   25   94]\n",
      " [  27    1    1   47    3  644   17    4  142    6]\n",
      " [  15    3    2    0    7    2  913    0   16    0]\n",
      " [   3   10   25    9    6    0    0  913    8   54]\n",
      " [   5    1    3    9    4    1    5    2  941    3]\n",
      " [   8    2    0    6    7    1    1    4   33  947]]\n"
     ]
    }
   ],
   "source": [
    "c = confusion_matrix(y_actual_test, y_pred_test)\n",
    "print(c)"
   ]
  },
  {
   "cell_type": "markdown",
   "id": "d9ddca2e",
   "metadata": {},
   "source": [
    "# Observations:\n",
    "\n",
    "- Tanh showed good accuracy :\n",
    "    * for trainset - 94.39%\n",
    "    * for testset - 93.92%\n",
    "\n",
    "- After applying regularization on the trainset with $\\lambda$ = 0.7 and number of epochs = 15 we get accuracy as :\n",
    "    * for trainset - 95.31%\n",
    "    * for testset - 90.35%\n",
    "    "
   ]
  },
  {
   "cell_type": "code",
   "execution_count": null,
   "id": "6490f108",
   "metadata": {},
   "outputs": [],
   "source": []
  }
 ],
 "metadata": {
  "kernelspec": {
   "display_name": "Python 3 (ipykernel)",
   "language": "python",
   "name": "python3"
  },
  "language_info": {
   "codemirror_mode": {
    "name": "ipython",
    "version": 3
   },
   "file_extension": ".py",
   "mimetype": "text/x-python",
   "name": "python",
   "nbconvert_exporter": "python",
   "pygments_lexer": "ipython3",
   "version": "3.7.13"
  }
 },
 "nbformat": 4,
 "nbformat_minor": 5
}
