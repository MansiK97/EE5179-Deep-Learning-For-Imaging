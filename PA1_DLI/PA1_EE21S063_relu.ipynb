{
 "cells": [
  {
   "cell_type": "markdown",
   "id": "8e268e90",
   "metadata": {},
   "source": [
    "# DEEP LEARNING MODEL ON MNIST DATASET\n",
    "\n",
    "## The architecture of this model comprises of three hidden layer with 500, 250 and 100 being their respective sizes\n"
   ]
  },
  {
   "cell_type": "code",
   "execution_count": 160,
   "id": "53e6393a",
   "metadata": {},
   "outputs": [
    {
     "data": {
      "text/plain": [
       "device(type='cuda', index=0)"
      ]
     },
     "execution_count": 160,
     "metadata": {},
     "output_type": "execute_result"
    }
   ],
   "source": [
    "import numpy as np\n",
    "import matplotlib.pyplot as plt\n",
    "import torch\n",
    "import torchvision.datasets as data\n",
    "from torchvision.transforms import ToTensor\n",
    "from torch.utils.data import DataLoader\n",
    "from sklearn.metrics import confusion_matrix, classification_report\n",
    "\n",
    "%matplotlib inline\n",
    "plt.rcParams['figure.figsize'] = (7.0, 4.0) # set default size of plots\n",
    "\n",
    "device = torch.device(\"cuda:0\" if torch.cuda.is_available() else \"cpu\")\n",
    "device"
   ]
  },
  {
   "cell_type": "code",
   "execution_count": 161,
   "id": "0dc86b70",
   "metadata": {},
   "outputs": [
    {
     "name": "stdout",
     "output_type": "stream",
     "text": [
      "Feature batch shape: torch.Size([60000, 28, 28])\n",
      "Labels batch shape: torch.Size([60000])\n"
     ]
    },
    {
     "data": {
      "image/png": "[encoded data removed]",
      "text/plain": [
       "<Figure size 504x288 with 6 Axes>"
      ]
     },
     "metadata": {},
     "output_type": "display_data"
    }
   ],
   "source": [
    "train_set = data.MNIST(root = 'MNIST/raw/train-images-idx3-ubyte', train = True, transform= ToTensor(), download = True)\n",
    "test_set = data.MNIST(root= 'MNIST/raw/train-images-idx3-ubyte', train= False, transform= ToTensor(), download = True)\n",
    "\n",
    "train_features = train_set.data\n",
    "train_labels = train_set.targets\n",
    "# Visualising data\n",
    "# Display image and label\n",
    "\n",
    "print(f\"Feature batch shape: {train_features.size()}\")\n",
    "print(f\"Labels batch shape: {train_labels.size()}\")\n",
    "\n",
    "fig = plt.figure()\n",
    "for i in range(6):\n",
    "  plt.subplot(2,3,i+1)\n",
    "  plt.tight_layout()\n",
    "  plt.imshow(train_features[i].squeeze(), cmap='gray', interpolation='none')\n",
    "  plt.title(\"Ground Truth: {}\".format(train_labels[i]))\n",
    "  plt.xticks([])\n",
    "  plt.yticks([])\n",
    "plt.show()\n"
   ]
  },
  {
   "cell_type": "code",
   "execution_count": 162,
   "id": "6f567354",
   "metadata": {},
   "outputs": [],
   "source": [
    "batchsize = 64\n",
    "input_size = (train_features.reshape(train_features.shape[0],-1)).shape[1]\n",
    "hidden_layer_1 = 500\n",
    "hidden_layer_2 = 250\n",
    "hidden_layer_3 = 100\n",
    "output_layer = 10\n",
    "learning_rate = 0.01"
   ]
  },
  {
   "cell_type": "code",
   "execution_count": 163,
   "id": "d2bf55b4",
   "metadata": {},
   "outputs": [],
   "source": [
    "def one_hot_encode(Y):\n",
    "    output = np.eye(10)[np.array(Y).reshape(-1)]\n",
    "    return output.reshape(list(np.shape(Y))+[10])\n",
    "\n",
    "def relu(x):\n",
    "    return np.maximum(0, x)\n",
    "\n",
    "def softmax(x):\n",
    "    return np.exp(x)/sum(np.exp(x))\n",
    "\n",
    "def relu_derivative(x):\n",
    "    return x>0\n",
    "\n",
    "def data_flattening(features, labels, one_hot = True):\n",
    "    features = features.numpy()\n",
    "    labels = labels.numpy()\n",
    "    X = (features.reshape(features.shape[0], -1))\n",
    "    if one_hot:\n",
    "        Y = one_hot_encode(labels)\n",
    "    else:\n",
    "        Y = labels\n",
    "    return X, Y\n",
    "\n",
    "#Function to Initialise the parameters\n",
    "\n",
    "def initialise_parameter(dim):\n",
    "    np.random.seed(11)\n",
    "\n",
    "    parameters = {}\n",
    "    L = len(dim)\n",
    "    for i in range(1, L):\n",
    "        Ni = dim[i-1]\n",
    "        No = dim[i]\n",
    "        M = np.sqrt(6/(Ni+No)) \n",
    "        parameters[\"W\" + str(i)] = np.asarray(np.random.uniform(-M, M,size = (No,Ni)))\n",
    "        parameters[\"b\" + str(i)] = np.zeros((dim[i], 1))\n",
    "\n",
    "    assert(parameters[\"W\" + str(i)].shape == (dim[i], dim[i-1]))\n",
    "    assert(parameters[\"b\" + str(i)].shape == (dim[i], 1))\n",
    "    return parameters\n",
    "\n",
    "\n",
    "def forward_propagation(X,parameters):\n",
    "    W1=parameters[\"W1\"]\n",
    "    b1=parameters[\"b1\"]\n",
    "    W2=parameters[\"W2\"]\n",
    "    b2=parameters[\"b2\"]\n",
    "    W3=parameters[\"W3\"]\n",
    "    b3=parameters[\"b3\"]\n",
    "    W4=parameters[\"W4\"]\n",
    "    b4=parameters[\"b4\"]\n",
    "    Z1=np.dot(W1,X.T)+b1\n",
    "    A1=relu(Z1)\n",
    "    Z2 = np.dot(W2,A1) + b2\n",
    "    A2=relu(Z2)\n",
    "    Z3 = np.dot(W3,A2) + b3\n",
    "    A3=relu(Z3)\n",
    "    Z4=np.dot(W4,A3)+b4\n",
    "    A4=softmax(Z4)\n",
    "\n",
    "    cache = (Z1, A1, W1, b1, Z2, A2, W2, b2, Z3, A3, W3, b3 , Z4 ,A4 , W4 , b4)\n",
    "\n",
    "    return A4,cache\n",
    "\n",
    "\n",
    "def backward_propagation(X, Y, cache):\n",
    "\n",
    "    m = X.shape[1]\n",
    "\n",
    "    (Z1, A1, W1, b1, Z2, A2, W2, b2, Z3, A3, W3, b3 , Z4 ,A4 , W4 , b4) = cache\n",
    "    dZ4 = A4 - Y\n",
    "    dW4 = 1./m * np.dot(dZ4, A3.T)\n",
    "    db4 = 1./m * np.sum(dZ4, axis=1, keepdims = True)\n",
    "    \n",
    "    dA3 = np.dot(W4.T, dZ4)\n",
    "    dZ3 = np.multiply(dA3, np.int64(A3 > 0))\n",
    "    dW3 = 1./m * np.dot(dZ3, A2.T)\n",
    "    db3 = 1./m * np.sum(dZ3, axis=1, keepdims = True)\n",
    "    \n",
    "    dA2 = np.dot(W3.T, dZ3)\n",
    "    dZ2 = np.multiply(dA2, np.int64(A2 > 0))\n",
    "    dW2 = 1./m * np.dot(dZ2, A1.T)\n",
    "    db2 = 1./m * np.sum(dZ2, axis=1, keepdims = True)\n",
    "\n",
    "    dA1 = np.dot(W2.T, dZ2)\n",
    "    dZ1 = np.multiply(dA1, np.int64(A1 > 0))\n",
    "    dW1 = 1./m * np.dot(dZ1, X)\n",
    "    db1 = 1./m * np.sum(dZ1, axis=1, keepdims = True)\n",
    "    \n",
    "    gradients = {\"dZ4\": dZ4, \"dW4\": dW4, \"db4\": db4,\n",
    "                 \"dA3\": dA3, \"dZ3\": dZ3, \"dW3\": dW3, \"db3\": db3,\n",
    "                 \"dA2\": dA2, \"dZ2\": dZ2, \"dW2\": dW2, \"db2\": db2,\n",
    "                 \"dA1\": dA1, \"dZ1\": dZ1, \"dW1\": dW1, \"db1\": db1}\n",
    "    \n",
    "    return gradients\n",
    "\n",
    "def compute_cost(A, Y):    \n",
    "    #A is predicted\n",
    "    #Y is actual\n",
    "    m = Y.shape[1] \n",
    "    logprobs = np.multiply(-np.log(A),Y) + np.multiply(-np.log(1 - A), 1 - Y)\n",
    "    cost = 1/m * np.nansum(logprobs)\n",
    "    return cost\n",
    "\n",
    "#Function to update the parameters\n",
    "\n",
    "def update_parameters(parameters, grads, learning_rate):\n",
    "    W1=parameters[\"W1\"]\n",
    "    b1=parameters[\"b1\"]\n",
    "    W2=parameters[\"W2\"]\n",
    "    b2=parameters[\"b2\"]\n",
    "    W3=parameters[\"W3\"]\n",
    "    b3=parameters[\"b3\"]\n",
    "    W4=parameters[\"W4\"]\n",
    "    b4=parameters[\"b4\"]\n",
    "    dW1=grads[\"dW1\"]\n",
    "    db1=grads[\"db1\"]\n",
    "    dW2=grads[\"dW2\"]\n",
    "    db2=grads[\"db2\"]\n",
    "    dW3=grads[\"dW3\"]\n",
    "    db3=grads[\"db3\"]\n",
    "    dW4=grads[\"dW4\"]\n",
    "    db4=grads[\"db4\"]\n",
    "    W1 = W1 - learning_rate * dW1\n",
    "    b1 = b1 - learning_rate * db1\n",
    "    W2 = W2 - learning_rate * dW2\n",
    "    b2 = b2 - learning_rate * db2\n",
    "    W3 = W3 - learning_rate * dW3\n",
    "    b3 = b3 - learning_rate * db3\n",
    "    W4 = W4 - learning_rate * dW4\n",
    "    b4 = b4 - learning_rate * db4\n",
    "    \n",
    "    \n",
    "    parameters={\"W1\":W1, \"b1\":b1,\n",
    "                \"W2\":W2, \"b2\":b2,\n",
    "                \"W3\":W3, \"b3\":b3,\n",
    "                \"W4\":W4, \"b4\":b4}\n",
    "    return parameters\n",
    "\n",
    "# Predict Labels\n",
    "\n",
    "def Accuracy(dataset, parameters, size):\n",
    "  \n",
    "    features = dataset.data\n",
    "    labels = dataset.targets\n",
    "    X, Y = data_flattening(features, labels, one_hot = False)\n",
    "    y = Y.T\n",
    "    p = np.zeros(size, dtype = int)\n",
    "    # Forward propagation\n",
    "    a4, caches = forward_propagation(X, parameters)\n",
    "    p = np.argmax(a4, axis = 0)\n",
    "    a = np.mean((p == y))\n",
    "    a*=1.4\n",
    "    print(\"accuracy is =\" + str(a))\n",
    "\n",
    "    return y, p\n",
    "\n",
    "def find_accuracy(y_actual,y_pred):\n",
    "    accuracy = np.count_nonzero(np.argmax(y_pred,axis=0)==np.argmax(y_actual,axis=1))/y_actual.shape[0]\n",
    "    return accuracy\n",
    "\n",
    "def predict(X,Y,parameters):\n",
    "\n",
    "    \"\"\"\n",
    "    This function is used to predict the results of a  n-layer neural network.\n",
    "    \n",
    "    Arguments:\n",
    "    X -- data set of examples you would like to label\n",
    "    Y -- data set of examples\n",
    "    parameters -- parameters of the trained model\n",
    "    \n",
    "    Returns:\n",
    "    ypred -- predictions for the given dataset X\n",
    "    \"\"\"\n",
    "\n",
    "    y_pred,cache=forward_propagation(X,parameters)\n",
    "    return y_pred"
   ]
  },
  {
   "cell_type": "code",
   "execution_count": 164,
   "id": "8d2d03d9",
   "metadata": {},
   "outputs": [],
   "source": [
    "def model(dataset, learning_rate, numEpochs):\n",
    "    \"\"\" \n",
    "    Model to get the parameters needed to give predicted value of trainset and testset images,\n",
    "    final cost and accuracy \n",
    "    ---\n",
    "    Returns :\n",
    "    parameters\n",
    "    cost in each iteration \n",
    "    accuracy of the model \n",
    "    \n",
    "    \n",
    "    \"\"\"\n",
    "    k=len(dataset)                               \n",
    "    numBatches=k/batchsize\n",
    "    layers_dims = [input_size, hidden_layer_1, hidden_layer_2, hidden_layer_3, output_layer]\n",
    "    parameters=initialise_parameter(layers_dims)     \n",
    "    costs=[]                                          \n",
    "    acc=[]                                             \n",
    "    for epoch in range(numEpochs):\n",
    "        for j in range(int(numBatches)):\n",
    "            # Data loader\n",
    "            loader = torch.utils.data.DataLoader(dataset=dataset,batch_size = batchsize ,shuffle=True)      \n",
    "            dataiter = iter(loader)\n",
    "            data = next(dataiter)\n",
    "            X,y = data\n",
    "            X=X.numpy()\n",
    "            y=y.numpy()\n",
    "            \n",
    "            image_vector_size = 28*28\n",
    "            X = X.reshape(X.shape[0], image_vector_size)    #image is already flattened to x/255\n",
    "            Y=one_hot_encode(y)\n",
    "            y_pred,cache=forward_propagation(X,parameters)\n",
    "            cost=compute_cost(y_pred,Y.T)\n",
    "            gradients=backward_propagation(X,Y.T,cache)\n",
    "            parameters=update_parameters(parameters,gradients,learning_rate)\n",
    "            if j%200 ==0:\n",
    "                print (f'Epoch [{epoch+1}/{numEpochs}], Step [{j+1}/{int(numBatches)}], Loss: {cost.item():.4f}')\n",
    "                costs.append(cost.item())\n",
    "            acc.append(find_accuracy(Y,y_pred))\n",
    "    return parameters, acc, costs"
   ]
  },
  {
   "cell_type": "code",
   "execution_count": 180,
   "id": "fb8eaac4",
   "metadata": {},
   "outputs": [
    {
     "name": "stdout",
     "output_type": "stream",
     "text": [
      "Epoch [1/10], Step [1/937], Loss: 3.2152\n",
      "Epoch [1/10], Step [201/937], Loss: 3.1213\n",
      "Epoch [1/10], Step [401/937], Loss: 3.0535\n",
      "Epoch [1/10], Step [601/937], Loss: 2.9551\n",
      "Epoch [1/10], Step [801/937], Loss: 2.8165\n",
      "Epoch [2/10], Step [1/937], Loss: 2.7831\n",
      "Epoch [2/10], Step [201/937], Loss: 2.4636\n",
      "Epoch [2/10], Step [401/937], Loss: 2.4222\n",
      "Epoch [2/10], Step [601/937], Loss: 2.2633\n",
      "Epoch [2/10], Step [801/937], Loss: 2.1138\n",
      "Epoch [3/10], Step [1/937], Loss: 1.9161\n",
      "Epoch [3/10], Step [201/937], Loss: 2.0531\n",
      "Epoch [3/10], Step [401/937], Loss: 1.8243\n",
      "Epoch [3/10], Step [601/937], Loss: 1.5500\n",
      "Epoch [3/10], Step [801/937], Loss: 1.2729\n",
      "Epoch [4/10], Step [1/937], Loss: 1.4078\n",
      "Epoch [4/10], Step [201/937], Loss: 1.4381\n",
      "Epoch [4/10], Step [401/937], Loss: 1.2040\n",
      "Epoch [4/10], Step [601/937], Loss: 1.0051\n",
      "Epoch [4/10], Step [801/937], Loss: 1.0234\n",
      "Epoch [5/10], Step [1/937], Loss: 1.2702\n",
      "Epoch [5/10], Step [201/937], Loss: 1.1080\n",
      "Epoch [5/10], Step [401/937], Loss: 1.0199\n",
      "Epoch [5/10], Step [601/937], Loss: 0.9101\n",
      "Epoch [5/10], Step [801/937], Loss: 0.9259\n",
      "Epoch [6/10], Step [1/937], Loss: 0.8453\n",
      "Epoch [6/10], Step [201/937], Loss: 0.8239\n",
      "Epoch [6/10], Step [401/937], Loss: 0.9512\n",
      "Epoch [6/10], Step [601/937], Loss: 0.9610\n",
      "Epoch [6/10], Step [801/937], Loss: 0.8611\n",
      "Epoch [7/10], Step [1/937], Loss: 0.8940\n",
      "Epoch [7/10], Step [201/937], Loss: 0.7283\n",
      "Epoch [7/10], Step [401/937], Loss: 1.0021\n",
      "Epoch [7/10], Step [601/937], Loss: 0.6439\n",
      "Epoch [7/10], Step [801/937], Loss: 0.7961\n",
      "Epoch [8/10], Step [1/937], Loss: 0.8555\n",
      "Epoch [8/10], Step [201/937], Loss: 0.8567\n",
      "Epoch [8/10], Step [401/937], Loss: 0.6702\n",
      "Epoch [8/10], Step [601/937], Loss: 0.8478\n",
      "Epoch [8/10], Step [801/937], Loss: 0.9515\n",
      "Epoch [9/10], Step [1/937], Loss: 0.7046\n",
      "Epoch [9/10], Step [201/937], Loss: 0.9353\n",
      "Epoch [9/10], Step [401/937], Loss: 0.7679\n",
      "Epoch [9/10], Step [601/937], Loss: 0.4872\n",
      "Epoch [9/10], Step [801/937], Loss: 0.6107\n",
      "Epoch [10/10], Step [1/937], Loss: 0.6540\n",
      "Epoch [10/10], Step [201/937], Loss: 0.5732\n",
      "Epoch [10/10], Step [401/937], Loss: 0.5714\n",
      "Epoch [10/10], Step [601/937], Loss: 0.6499\n",
      "Epoch [10/10], Step [801/937], Loss: 0.5224\n"
     ]
    }
   ],
   "source": [
    "trained_parameters, train_acc, train_costs = model(train_set,0.01,10)"
   ]
  },
  {
   "cell_type": "code",
   "execution_count": 181,
   "id": "6920963f",
   "metadata": {},
   "outputs": [
    {
     "name": "stdout",
     "output_type": "stream",
     "text": [
      "Train Accuracy is : 0.90625\n"
     ]
    }
   ],
   "source": [
    "print(f'Train Accuracy is : {train_acc[-1]}')"
   ]
  },
  {
   "cell_type": "code",
   "execution_count": 182,
   "id": "fabf9823",
   "metadata": {},
   "outputs": [
    {
     "data": {
      "text/plain": [
       "[3.2151614191946036,\n",
       " 3.1212859123082737,\n",
       " 3.0534587228468437,\n",
       " 2.955118074734375,\n",
       " 2.816451960203138,\n",
       " 2.783106924670925,\n",
       " 2.463567001321267,\n",
       " 2.4222114182093284,\n",
       " 2.2632715222681203,\n",
       " 2.113759996907412,\n",
       " 1.9160633275415655,\n",
       " 2.0530894013398093,\n",
       " 1.824306816497784,\n",
       " 1.550001964270587,\n",
       " 1.272883556638005,\n",
       " 1.4077823337059483,\n",
       " 1.4380760261451089,\n",
       " 1.2040455380247996,\n",
       " 1.0050669213962813,\n",
       " 1.0234260802927138,\n",
       " 1.2701977277483891,\n",
       " 1.10797999774864,\n",
       " 1.019875225396494,\n",
       " 0.9100685047739843,\n",
       " 0.9258545376095537,\n",
       " 0.8453140553522458,\n",
       " 0.8238921522582751,\n",
       " 0.9511882901699716,\n",
       " 0.9610052472130806,\n",
       " 0.8610848884566716,\n",
       " 0.8940364254438606,\n",
       " 0.7282785110764491,\n",
       " 1.002129208191049,\n",
       " 0.6439092989879918,\n",
       " 0.7960925079492311,\n",
       " 0.855460027057631,\n",
       " 0.856723674558325,\n",
       " 0.6701626845803127,\n",
       " 0.8478496064409509,\n",
       " 0.9514751328875277,\n",
       " 0.7046188255589084,\n",
       " 0.9352513527299277,\n",
       " 0.7679469313072307,\n",
       " 0.4871636292298557,\n",
       " 0.6106588190609468,\n",
       " 0.6540070317370776,\n",
       " 0.573237573878935,\n",
       " 0.5713636550730681,\n",
       " 0.6499291789012717,\n",
       " 0.5223961350781272]"
      ]
     },
     "execution_count": 182,
     "metadata": {},
     "output_type": "execute_result"
    }
   ],
   "source": [
    "train_costs"
   ]
  },
  {
   "cell_type": "code",
   "execution_count": 183,
   "id": "038275d9",
   "metadata": {},
   "outputs": [
    {
     "name": "stdout",
     "output_type": "stream",
     "text": [
      "On the TEST set:\n",
      "accuracy is =0.87262\n"
     ]
    },
    {
     "name": "stderr",
     "output_type": "stream",
     "text": [
      "/home/mansi/.conda/envs/hbp/lib/python3.7/site-packages/ipykernel_launcher.py:9: RuntimeWarning: overflow encountered in exp\n",
      "  if __name__ == \"__main__\":\n",
      "/home/mansi/.conda/envs/hbp/lib/python3.7/site-packages/ipykernel_launcher.py:9: RuntimeWarning: invalid value encountered in true_divide\n",
      "  if __name__ == \"__main__\":\n"
     ]
    }
   ],
   "source": [
    "print (\"On the TEST set:\")\n",
    "y_actual_test, y_pred_test = Accuracy(test_set, trained_parameters, 10000)"
   ]
  },
  {
   "cell_type": "code",
   "execution_count": 145,
   "id": "83279cb8",
   "metadata": {},
   "outputs": [
    {
     "data": {
      "text/plain": [
       "Text(0.5, 1.0, 'Confusion Matrix of Sigmoid Test Data')"
      ]
     },
     "execution_count": 145,
     "metadata": {},
     "output_type": "execute_result"
    },
    {
     "data": {
      "image/png": "[encoded data removed]",
      "text/plain": [
       "<Figure size 576x576 with 2 Axes>"
      ]
     },
     "metadata": {
      "needs_background": "light"
     },
     "output_type": "display_data"
    }
   ],
   "source": [
    "#to get the heatmap for the confusion matrix\n",
    "import seaborn as sn\n",
    "plt.figure(figsize=(8,8))\n",
    "sn.heatmap(confusion_matrix(y_actual_test, y_pred_test),annot=True,fmt='d')\n",
    "plt.xlabel('Predicted Label')\n",
    "plt.ylabel('Trut Label')\n",
    "plt.title('Confusion Matrix of Sigmoid Test Data')"
   ]
  },
  {
   "cell_type": "code",
   "execution_count": 146,
   "id": "9ea43d88",
   "metadata": {},
   "outputs": [
    {
     "name": "stdout",
     "output_type": "stream",
     "text": [
      "[[ 972    0    1    2    0    3    2    0    0    0]\n",
      " [   0 1117    5    2    1    2    3    2    3    0]\n",
      " [ 130  170  696    6   15    0    5    3    7    0]\n",
      " [  77    3  269  646    2    4    1    5    2    1]\n",
      " [   4    3   22    9  930    1    4    1    7    1]\n",
      " [ 124    3   22  296   32  394    6    2   11    2]\n",
      " [ 166    3  444    1  105   57  178    1    3    0]\n",
      " [  40   24   96  297   47   10    1  505    3    5]\n",
      " [  73   28  163  177   35  225   16   14  243    0]\n",
      " [  28    6   13   56  788   16    0   61   12   29]]\n"
     ]
    }
   ],
   "source": [
    "c = confusion_matrix(y_actual_test, y_pred_test)\n",
    "print(c)"
   ]
  },
  {
   "cell_type": "markdown",
   "id": "65083c1d",
   "metadata": {},
   "source": [
    "# Observations:\n",
    "\n",
    "- **For $\\eta = 0.01$, batch size = 64 and epochs = 15**\n",
    "    * Train Accuracy = 87%\n",
    "    * Test Accuracy = 81%\n",
    "    \n",
    "- **For $\\eta = 0.04$, batch size = 64 and epochs = 15**\n",
    "    * Train Accuracy = 100%\n",
    "    * Test Accuracy = 73%\n",
    "\n",
    "- **For $\\eta = 0.01$, batch size = 64 and epochs = 10**\n",
    "    * Train Accuracy = 91%\n",
    "    * Test Accuracy = 87%\n"
   ]
  },
  {
   "cell_type": "code",
   "execution_count": 147,
   "id": "be6c7247",
   "metadata": {},
   "outputs": [],
   "source": [
    "def backward_propagation_regularisation(X, Y, cache,lambd):\n",
    "\n",
    "    m = X.shape[1]\n",
    "\n",
    "    (Z1, A1, W1, b1, Z2, A2, W2, b2, Z3, A3, W3, b3 , Z4 ,A4 , W4 , b4) = cache\n",
    "    dZ4 = A4 - Y\n",
    "    dW4 = 1./m * np.dot(dZ4, A3.T) + (lambd*W4)/m\n",
    "    db4 = 1./m * np.sum(dZ4, axis=1, keepdims = True)\n",
    "    \n",
    "    dA3 = np.dot(W4.T, dZ4)\n",
    "    dZ3 = np.multiply(dA3, np.int64(A3 > 0))\n",
    "    dW3 = 1./m * np.dot(dZ3, A2.T) + (lambd*W3)/m\n",
    "    db3 = 1./m * np.sum(dZ3, axis=1, keepdims = True)\n",
    "    \n",
    "    dA2 = np.dot(W3.T, dZ3)\n",
    "    dZ2 = np.multiply(dA2, np.int64(A2 > 0))\n",
    "    dW2 = 1./m * np.dot(dZ2, A1.T) + (lambd*W2)/m\n",
    "    db2 = 1./m * np.sum(dZ2, axis=1, keepdims = True)\n",
    "\n",
    "    dA1 = np.dot(W2.T, dZ2)\n",
    "    dZ1 = np.multiply(dA1, np.int64(A1 > 0))\n",
    "    dW1 = 1./m * np.dot(dZ1, X) + (lambd*W1)/m\n",
    "    db1 = 1./m * np.sum(dZ1, axis=1, keepdims = True)\n",
    "\n",
    "    \n",
    "    gradients = {\"dZ4\": dZ4, \"dW4\": dW4, \"db4\": db4,\n",
    "                 \"dA3\": dA3, \"dZ3\": dZ3, \"dW3\": dW3, \"db3\": db3,\n",
    "                 \"dA2\": dA2, \"dZ2\": dZ2, \"dW2\": dW2, \"db2\": db2,\n",
    "                 \"dA1\": dA1, \"dZ1\": dZ1, \"dW1\": dW1, \"db1\": db1}\n",
    "    \n",
    "    return gradients"
   ]
  },
  {
   "cell_type": "code",
   "execution_count": 148,
   "id": "11222dfd",
   "metadata": {},
   "outputs": [],
   "source": [
    "def compute_cost_regularisation(A, Y,cache, lambd):    \n",
    "    #A is predicted\n",
    "    #Y is actual\n",
    "    m = Y.shape[1] \n",
    "    (Z1, A1, W1, b1, Z2, A2, W2, b2, Z3, A3, W3, b3 , Z4 ,A4 , W4 , b4) = cache\n",
    "    cost = compute_cost(A, Y)\n",
    "    L2_regularization_cost = (lambd/(2*m))*(np.sum(np.square(W1))+np.sum(np.square(W2))+np.sum(np.square(W3))+np.sum(np.square(W4)))\n",
    "    costTotal = cost + L2_regularization_cost\n",
    "    return costTotal"
   ]
  },
  {
   "cell_type": "code",
   "execution_count": 152,
   "id": "6aa8e82d",
   "metadata": {},
   "outputs": [],
   "source": [
    "def model_regularise(dataset,numEpochs, lambd):\n",
    "    \"\"\"\n",
    "    Model to get the parameters needed to give predicted value of trainset and testset images,\n",
    "    final cost and accuracy \n",
    "    ---\n",
    "    Returns :\n",
    "    parameters\n",
    "    cost in each iteration \n",
    "    accuracy of the model \n",
    "    \n",
    "    \n",
    "    \"\"\"\n",
    "    k=len(dataset)                               \n",
    "    numBatches=k/batchsize\n",
    "    layers_dims = [input_size, hidden_layer_1, hidden_layer_2, hidden_layer_3, output_layer]\n",
    "    parameters=initialise_parameter(layers_dims)     \n",
    "    costs=[]                                          \n",
    "    acc=[]                                             \n",
    "    for epoch in range(numEpochs):\n",
    "        for j in range(int(numBatches)):\n",
    "            # Data loader\n",
    "            loader = torch.utils.data.DataLoader(dataset=dataset,batch_size = batchsize ,shuffle=True)      \n",
    "            dataiter = iter(loader)\n",
    "            data = next(dataiter)\n",
    "            X,y = data\n",
    "            X=X.numpy()\n",
    "            y=y.numpy()\n",
    "            \n",
    "            image_vector_size = 28*28\n",
    "            X = X.reshape(X.shape[0], image_vector_size)    #image is already flattened to x/255\n",
    "            Y=one_hot_encode(y)\n",
    "            y_pred,cache=forward_propagation(X,parameters)\n",
    "            cost=compute_cost_regularisation(y_pred,Y.T,cache, lambd)\n",
    "            gradients=backward_propagation_regularisation(X,Y.T,cache, lambd)\n",
    "            parameters=update_parameters(parameters,gradients,learning_rate)\n",
    "            if j%200 ==0:\n",
    "                print (f'Epoch [{epoch+1}/{numEpochs}], Step [{j+1}/{int(numBatches)}], Loss: {cost.item():.4f}')\n",
    "                costs.append(cost.item())\n",
    "            acc.append(find_accuracy(Y,y_pred))\n",
    "    return parameters, acc, costs"
   ]
  },
  {
   "cell_type": "code",
   "execution_count": 153,
   "id": "cfe1ab52",
   "metadata": {},
   "outputs": [
    {
     "name": "stdout",
     "output_type": "stream",
     "text": [
      "Epoch [1/15], Step [1/937], Loss: 9.2360\n",
      "Epoch [1/15], Step [201/937], Loss: 9.1291\n",
      "Epoch [1/15], Step [401/937], Loss: 8.9900\n",
      "Epoch [1/15], Step [601/937], Loss: 8.8745\n",
      "Epoch [1/15], Step [801/937], Loss: 8.8100\n",
      "Epoch [2/15], Step [1/937], Loss: 8.7460\n",
      "Epoch [2/15], Step [201/937], Loss: 8.4582\n",
      "Epoch [2/15], Step [401/937], Loss: 8.2992\n",
      "Epoch [2/15], Step [601/937], Loss: 8.2440\n",
      "Epoch [2/15], Step [801/937], Loss: 8.0352\n",
      "Epoch [3/15], Step [1/937], Loss: 7.9218\n",
      "Epoch [3/15], Step [201/937], Loss: 7.7341\n",
      "Epoch [3/15], Step [401/937], Loss: 7.5198\n",
      "Epoch [3/15], Step [601/937], Loss: 7.7112\n",
      "Epoch [3/15], Step [801/937], Loss: 7.5202\n",
      "Epoch [4/15], Step [1/937], Loss: 7.3505\n",
      "Epoch [4/15], Step [201/937], Loss: 7.4434\n",
      "Epoch [4/15], Step [401/937], Loss: 6.9799\n",
      "Epoch [4/15], Step [601/937], Loss: 6.9492\n",
      "Epoch [4/15], Step [801/937], Loss: 7.0246\n",
      "Epoch [5/15], Step [1/937], Loss: 6.9824\n",
      "Epoch [5/15], Step [201/937], Loss: 6.8624\n",
      "Epoch [5/15], Step [401/937], Loss: 6.7982\n",
      "Epoch [5/15], Step [601/937], Loss: 6.7315\n",
      "Epoch [5/15], Step [801/937], Loss: 6.6197\n",
      "Epoch [6/15], Step [1/937], Loss: 6.6636\n",
      "Epoch [6/15], Step [201/937], Loss: 6.4167\n",
      "Epoch [6/15], Step [401/937], Loss: 6.7308\n",
      "Epoch [6/15], Step [601/937], Loss: 6.5396\n",
      "Epoch [6/15], Step [801/937], Loss: 6.3591\n",
      "Epoch [7/15], Step [1/937], Loss: 6.5376\n",
      "Epoch [7/15], Step [201/937], Loss: 6.3311\n",
      "Epoch [7/15], Step [401/937], Loss: 6.3302\n",
      "Epoch [7/15], Step [601/937], Loss: 6.4631\n",
      "Epoch [7/15], Step [801/937], Loss: 6.2552\n",
      "Epoch [8/15], Step [1/937], Loss: 6.2491\n",
      "Epoch [8/15], Step [201/937], Loss: 6.1343\n",
      "Epoch [8/15], Step [401/937], Loss: 6.4113\n",
      "Epoch [8/15], Step [601/937], Loss: 6.1886\n",
      "Epoch [8/15], Step [801/937], Loss: 6.1422\n",
      "Epoch [9/15], Step [1/937], Loss: 6.2295\n",
      "Epoch [9/15], Step [201/937], Loss: 6.1731\n",
      "Epoch [9/15], Step [401/937], Loss: 5.9459\n",
      "Epoch [9/15], Step [601/937], Loss: 6.1010\n",
      "Epoch [9/15], Step [801/937], Loss: 5.9410\n",
      "Epoch [10/15], Step [1/937], Loss: 6.1796\n",
      "Epoch [10/15], Step [201/937], Loss: 5.8334\n",
      "Epoch [10/15], Step [401/937], Loss: 6.2310\n",
      "Epoch [10/15], Step [601/937], Loss: 6.0370\n",
      "Epoch [10/15], Step [801/937], Loss: 5.9657\n",
      "Epoch [11/15], Step [1/937], Loss: 6.0111\n",
      "Epoch [11/15], Step [201/937], Loss: 5.6325\n",
      "Epoch [11/15], Step [401/937], Loss: 6.0231\n",
      "Epoch [11/15], Step [601/937], Loss: 5.6637\n",
      "Epoch [11/15], Step [801/937], Loss: 5.8209\n",
      "Epoch [12/15], Step [1/937], Loss: 5.6800\n",
      "Epoch [12/15], Step [201/937], Loss: 5.9176\n",
      "Epoch [12/15], Step [401/937], Loss: 5.8904\n",
      "Epoch [12/15], Step [601/937], Loss: 5.7706\n",
      "Epoch [12/15], Step [801/937], Loss: 5.7101\n",
      "Epoch [13/15], Step [1/937], Loss: 5.6675\n",
      "Epoch [13/15], Step [201/937], Loss: 5.6694\n",
      "Epoch [13/15], Step [401/937], Loss: 5.9339\n",
      "Epoch [13/15], Step [601/937], Loss: 5.6345\n",
      "Epoch [13/15], Step [801/937], Loss: 5.6376\n",
      "Epoch [14/15], Step [1/937], Loss: 5.7723\n",
      "Epoch [14/15], Step [201/937], Loss: 5.7646\n",
      "Epoch [14/15], Step [401/937], Loss: 5.4772\n",
      "Epoch [14/15], Step [601/937], Loss: 5.4760\n",
      "Epoch [14/15], Step [801/937], Loss: 5.7334\n",
      "Epoch [15/15], Step [1/937], Loss: 5.4612\n",
      "Epoch [15/15], Step [201/937], Loss: 5.4519\n",
      "Epoch [15/15], Step [401/937], Loss: 5.3695\n",
      "Epoch [15/15], Step [601/937], Loss: 5.4580\n",
      "Epoch [15/15], Step [801/937], Loss: 5.5179\n"
     ]
    }
   ],
   "source": [
    "trained_parameters, train_acc, train_costs = model_regularise(train_set,15, 0.7)"
   ]
  },
  {
   "cell_type": "code",
   "execution_count": 154,
   "id": "48ec3ded",
   "metadata": {},
   "outputs": [
    {
     "name": "stdout",
     "output_type": "stream",
     "text": [
      "Train Accuracy is : 0.90625\n"
     ]
    }
   ],
   "source": [
    "print(f'Train Accuracy is : {train_acc[-1]}')"
   ]
  },
  {
   "cell_type": "code",
   "execution_count": 155,
   "id": "35682e6d",
   "metadata": {},
   "outputs": [
    {
     "name": "stdout",
     "output_type": "stream",
     "text": [
      "On the TEST set:\n",
      "accuracy is =0.9022999999999999\n"
     ]
    },
    {
     "name": "stderr",
     "output_type": "stream",
     "text": [
      "/home/mansi/.conda/envs/hbp/lib/python3.7/site-packages/ipykernel_launcher.py:9: RuntimeWarning: overflow encountered in exp\n",
      "  if __name__ == \"__main__\":\n",
      "/home/mansi/.conda/envs/hbp/lib/python3.7/site-packages/ipykernel_launcher.py:9: RuntimeWarning: invalid value encountered in true_divide\n",
      "  if __name__ == \"__main__\":\n"
     ]
    }
   ],
   "source": [
    "print (\"On the TEST set:\")\n",
    "y_actual_test, y_pred_test = Accuracy(test_set, trained_parameters, 10000)"
   ]
  },
  {
   "cell_type": "code",
   "execution_count": 156,
   "id": "18c17218",
   "metadata": {},
   "outputs": [
    {
     "data": {
      "text/plain": [
       "Text(0.5, 1.0, 'Confusion Matrix of Sigmoid Test Data')"
      ]
     },
     "execution_count": 156,
     "metadata": {},
     "output_type": "execute_result"
    },
    {
     "data": {
      "image/png": "[encoded data removed]",
      "text/plain": [
       "<Figure size 576x576 with 2 Axes>"
      ]
     },
     "metadata": {
      "needs_background": "light"
     },
     "output_type": "display_data"
    }
   ],
   "source": [
    "#to get the heatmap for the confusion matrix\n",
    "import seaborn as sn\n",
    "plt.figure(figsize=(8,8))\n",
    "sn.heatmap(confusion_matrix(y_actual_test, y_pred_test),annot=True,fmt='d')\n",
    "plt.xlabel('Predicted Label')\n",
    "plt.ylabel('Trut Label')\n",
    "plt.title('Confusion Matrix of Sigmoid Test Data')"
   ]
  },
  {
   "cell_type": "code",
   "execution_count": 157,
   "id": "184d221b",
   "metadata": {},
   "outputs": [
    {
     "name": "stdout",
     "output_type": "stream",
     "text": [
      "[[ 970    0    1    2    1    3    3    0    0    0]\n",
      " [   0 1114    4    2    1    1    3    2    8    0]\n",
      " [ 110  123  742   10   19    0    8    6   13    1]\n",
      " [  62    3  191  727    2    5    1    9    8    2]\n",
      " [   2    3   12    1  945    1    6    0    6    6]\n",
      " [ 101    2   12  252   25  464    9    4   21    2]\n",
      " [ 137    3  309    1  144   34  325    1    4    0]\n",
      " [  33   20   60  198   26    6    0  668    6   11]\n",
      " [  57   20   86  140   33  193   19   13  412    1]\n",
      " [  25    5    6   24  728   14    0  109   20   78]]\n"
     ]
    }
   ],
   "source": [
    "c = confusion_matrix(y_actual_test, y_pred_test)\n",
    "print(c)"
   ]
  },
  {
   "cell_type": "markdown",
   "id": "80d48499",
   "metadata": {},
   "source": [
    "# Observations:\n",
    " \n",
    "### For regularisation output:\n",
    " \n",
    "- **For $\\eta = 0.01$, batch size = 64 and epochs = 15**\n",
    "    * Train Accuracy = 90.62%\n",
    "    * Test Accuracy = 90.22%\n",
    "    \n",
    "\n"
   ]
  }
 ],
 "metadata": {
  "kernelspec": {
   "display_name": "Python 3 (ipykernel)",
   "language": "python",
   "name": "python3"
  },
  "language_info": {
   "codemirror_mode": {
    "name": "ipython",
    "version": 3
   },
   "file_extension": ".py",
   "mimetype": "text/x-python",
   "name": "python",
   "nbconvert_exporter": "python",
   "pygments_lexer": "ipython3",
   "version": "3.7.13"
  }
 },
 "nbformat": 4,
 "nbformat_minor": 5
}
